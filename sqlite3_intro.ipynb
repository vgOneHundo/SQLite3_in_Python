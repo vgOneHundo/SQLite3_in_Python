{
  "nbformat": 4,
  "nbformat_minor": 0,
  "metadata": {
    "colab": {
      "provenance": [],
      "authorship_tag": "ABX9TyMw2q0ZFEvOHhg/OSGuN4s1",
      "include_colab_link": true
    },
    "kernelspec": {
      "name": "python3",
      "display_name": "Python 3"
    },
    "language_info": {
      "name": "python"
    }
  },
  "cells": [
    {
      "cell_type": "markdown",
      "metadata": {
        "id": "view-in-github",
        "colab_type": "text"
      },
      "source": [
        "<a href=\"https://colab.research.google.com/github/vgOneHundo/test-colab/blob/main/sqlite3_intro.ipynb\" target=\"_parent\"><img src=\"https://colab.research.google.com/assets/colab-badge.svg\" alt=\"Open In Colab\"/></a>"
      ]
    },
    {
      "cell_type": "markdown",
      "source": [
        "## Connect to a database\n",
        "To connect to an SQLuite database (or to create one), you use the `connect` method."
      ],
      "metadata": {
        "id": "1G8Q-kUTZtaC"
      }
    },
    {
      "cell_type": "code",
      "source": [
        "import sqlite3\n",
        "conn = sqlite3.connect('example.db')"
      ],
      "metadata": {
        "id": "jMPdtEF1cdEF"
      },
      "execution_count": 1,
      "outputs": []
    },
    {
      "cell_type": "markdown",
      "source": [
        "## Creating a table\n",
        "To create a table, you first get a cursor object and then execute an SQL statement."
      ],
      "metadata": {
        "id": "ADpJ1WiqZzbZ"
      }
    },
    {
      "cell_type": "code",
      "execution_count": 2,
      "metadata": {
        "id": "OK63axkPcIi-",
        "colab": {
          "base_uri": "https://localhost:8080/",
          "height": 218
        },
        "outputId": "dd2c315d-e051-4546-edab-3c20518db380"
      },
      "outputs": [
        {
          "output_type": "error",
          "ename": "OperationalError",
          "evalue": "table stocks already exists",
          "traceback": [
            "\u001b[0;31m---------------------------------------------------------------------------\u001b[0m",
            "\u001b[0;31mOperationalError\u001b[0m                          Traceback (most recent call last)",
            "\u001b[0;32m<ipython-input-2-f336f896703d>\u001b[0m in \u001b[0;36m<cell line: 2>\u001b[0;34m()\u001b[0m\n\u001b[1;32m      1\u001b[0m \u001b[0mc\u001b[0m \u001b[0;34m=\u001b[0m \u001b[0mconn\u001b[0m\u001b[0;34m.\u001b[0m\u001b[0mcursor\u001b[0m\u001b[0;34m(\u001b[0m\u001b[0;34m)\u001b[0m\u001b[0;34m\u001b[0m\u001b[0;34m\u001b[0m\u001b[0m\n\u001b[0;32m----> 2\u001b[0;31m \u001b[0mc\u001b[0m\u001b[0;34m.\u001b[0m\u001b[0mexecute\u001b[0m\u001b[0;34m(\u001b[0m\u001b[0;34m'''CREATE TABLE stocks (date text, trans text, symbol text, qty real, price real)'''\u001b[0m\u001b[0;34m)\u001b[0m\u001b[0;34m\u001b[0m\u001b[0;34m\u001b[0m\u001b[0m\n\u001b[0m\u001b[1;32m      3\u001b[0m \u001b[0mconn\u001b[0m\u001b[0;34m.\u001b[0m\u001b[0mcommit\u001b[0m\u001b[0;34m(\u001b[0m\u001b[0;34m)\u001b[0m\u001b[0;34m\u001b[0m\u001b[0;34m\u001b[0m\u001b[0m\n",
            "\u001b[0;31mOperationalError\u001b[0m: table stocks already exists"
          ]
        }
      ],
      "source": [
        "c = conn.cursor()\n",
        "c.execute('''CREATE TABLE stocks (date text, trans text, symbol text, qty real, price real)''')\n",
        "conn.commit()"
      ]
    },
    {
      "cell_type": "markdown",
      "source": [
        "## Inserting Data\n",
        "You can insert data into tables using SQL `INSERT INTO` statements."
      ],
      "metadata": {
        "id": "PB7Q-t5eZ5Ir"
      }
    },
    {
      "cell_type": "code",
      "source": [
        "c.execute(\"INSERT INTO stocks VALUES('2022-01-02', 'BUY', 'AAPL', 100, 35.14)\")\n",
        "conn.commit()"
      ],
      "metadata": {
        "id": "gm6_hShWcnsh"
      },
      "execution_count": null,
      "outputs": []
    },
    {
      "cell_type": "markdown",
      "source": [
        "## Quering Data\n",
        "Querying data is also done using SQL `SELECT` statements, and you can fetch data as needed."
      ],
      "metadata": {
        "id": "0xazzMtMaEoo"
      }
    },
    {
      "cell_type": "code",
      "source": [
        "c.execute(\"SELECT * FROM stocks WHERE symbol = 'AAPL'\")\n",
        "print(c.fetchone())"
      ],
      "metadata": {
        "id": "ipuiIsqTc0Qk"
      },
      "execution_count": null,
      "outputs": []
    },
    {
      "cell_type": "markdown",
      "source": [
        "## Closing the connection\n",
        "Don't forget to close the database connection once you're done."
      ],
      "metadata": {
        "id": "SuuQMm90aMv6"
      }
    },
    {
      "cell_type": "code",
      "source": [
        "conn.close()"
      ],
      "metadata": {
        "id": "cT-LfziLc_N6"
      },
      "execution_count": null,
      "outputs": []
    },
    {
      "cell_type": "markdown",
      "source": [
        "## Parameterized Queries\n",
        "\n",
        "To avoid SQL injection attacks, never directly interpolate or concatenate values into your SQL queries. Instead, use the parameter substitution feature available in the `sqlite3` module."
      ],
      "metadata": {
        "id": "V_vlsBvdaViC"
      }
    },
    {
      "cell_type": "code",
      "source": [
        "# reconnect to the SQL database\n",
        "conn = sqlite3.connect('example.db')\n",
        "c = conn.cursor()"
      ],
      "metadata": {
        "id": "N54POO1isB-9"
      },
      "execution_count": null,
      "outputs": []
    },
    {
      "cell_type": "code",
      "source": [
        "# correct way\n",
        "symbol = 'AAPL'\n",
        "c.execute(\"SELECT * FROM stocks WHERE symbol=?\", (symbol,))"
      ],
      "metadata": {
        "id": "CsxoJpkBacpC"
      },
      "execution_count": null,
      "outputs": []
    },
    {
      "cell_type": "markdown",
      "source": [
        "## Data retrieval\n",
        "The `fetchone()` method retrieves the next row in the result set returned from executing an SQL query. The `fetchall()` method retreives all remaining rows int eh resutl set."
      ],
      "metadata": {
        "id": "V_3FagVoa5Op"
      }
    },
    {
      "cell_type": "code",
      "source": [
        "c.execute('SELECT * FROM stocks WHERE symbol=?', ('AAPL',))\n",
        "print(c.fetchall())"
      ],
      "metadata": {
        "id": "8r4nPU1UqdK0"
      },
      "execution_count": null,
      "outputs": []
    },
    {
      "cell_type": "markdown",
      "source": [
        "## Transactions\n",
        "The `sqlite3` module also supports transactions, allowing you to commit or rollback changes."
      ],
      "metadata": {
        "id": "b9L_5hv2s9HA"
      }
    },
    {
      "cell_type": "code",
      "source": [
        "try:\n",
        "    # execute some queries\n",
        "    conn.commit()\n",
        "except sqlite3.Error:\n",
        "    conn.rollback()"
      ],
      "metadata": {
        "id": "uwkGzZe3tF8g"
      },
      "execution_count": 3,
      "outputs": []
    }
  ]
}