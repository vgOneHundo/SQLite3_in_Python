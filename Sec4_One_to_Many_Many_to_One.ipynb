{
  "nbformat": 4,
  "nbformat_minor": 0,
  "metadata": {
    "colab": {
      "provenance": [],
      "authorship_tag": "ABX9TyPL4/Al1qpevJc54aVlkBwG",
      "include_colab_link": true
    },
    "kernelspec": {
      "name": "python3",
      "display_name": "Python 3"
    },
    "language_info": {
      "name": "python"
    }
  },
  "cells": [
    {
      "cell_type": "markdown",
      "metadata": {
        "id": "view-in-github",
        "colab_type": "text"
      },
      "source": [
        "<a href=\"https://colab.research.google.com/github/vgOneHundo/test-colab/blob/main/Sec4_One_to_Many_Many_to_One.ipynb\" target=\"_parent\"><img src=\"https://colab.research.google.com/assets/colab-badge.svg\" alt=\"Open In Colab\"/></a>"
      ]
    },
    {
      "cell_type": "markdown",
      "source": [
        "## Exercise 1\n",
        "\n",
        "Using the built-in sqlite3 package, create SQLite database named 'esmartdata.sqlite3'.\n",
        "\n",
        "\n",
        "Then create a table in this database called \"esmartdata_instructor\" with the following columns (column name - data type):\n",
        "\n",
        "    id - integer\n",
        "    first_name - text\n",
        "    last_name - text\n",
        "    description - text\n",
        "\n",
        "\n",
        "Add a NOT NULL constraint to each column. Also add a primary key constraint with the AUTOINCREMENT option to the id column.\n",
        "\n",
        "\n",
        "Before creating the table, use the appropriate SQL command that will delete the \"esmartdata_instructor\" table if such a table already exists in the database.\n",
        "\n",
        "\n",
        "Commit the changes and close the database connection."
      ],
      "metadata": {
        "id": "GfvuNIEp5xtd"
      }
    },
    {
      "cell_type": "code",
      "execution_count": 1,
      "metadata": {
        "id": "RBgwApFgyv2z"
      },
      "outputs": [],
      "source": [
        "import sqlite3\n",
        "\n",
        "# connect to SQLite database\n",
        "conn = sqlite3.connect('esmartdata.sqlite3')\n",
        "cur = conn.cursor()"
      ]
    },
    {
      "cell_type": "code",
      "source": [
        "# drop table if it already exists\n",
        "drop_table_query = \"DROP TABLE IF EXISTS esmartdata_instructor;\"\n",
        "cur.execute(drop_table_query)\n",
        "\n",
        "# create 'esmartdata_instructor' table\n",
        "create_table_query = '''CREATE TABLE esmartdata_instructor (\n",
        "    id integer NOT NULL,\n",
        "    first_name text NOT NULL,\n",
        "    last_name text NOT NULL,\n",
        "    description text NOT NULL,\n",
        "    PRIMARY KEY (\"id\" AUTOINCREMENT)\n",
        ");'''\n",
        "\n",
        "cur.execute(create_table_query)\n",
        "\n",
        "# commit changes and close connection\n",
        "#conn.commit()\n",
        "#conn.close()"
      ],
      "metadata": {
        "id": "4sPxAzJr0dEK",
        "colab": {
          "base_uri": "https://localhost:8080/"
        },
        "outputId": "fa86e14c-bd05-4279-9ddb-b93a2f344787"
      },
      "execution_count": 2,
      "outputs": [
        {
          "output_type": "execute_result",
          "data": {
            "text/plain": [
              "<sqlite3.Cursor at 0x7af86ecafbc0>"
            ]
          },
          "metadata": {},
          "execution_count": 2
        }
      ]
    },
    {
      "cell_type": "markdown",
      "source": [
        "## Exercise 2\n",
        "\n",
        "Using the built-in sqlite3 package, SQLite database called `esmartdata.sqlite3` was prepared, which contains the `esmartdata_instructor` table.\n",
        "\n",
        "\n",
        "The table `esmartdata_instructor` stores basic information about the instructors on the platform. Each instructor can have multiple courses on the platform. We will store courses in a separate table called `esmartdata_course`. Before creating this table, you should consider the type of relationship between these tables. In this case, the answer is simple, one instructor -> many courses (one-to-many).\n",
        "\n",
        "\n",
        "Before creating the table, use the appropriate SQL command that will delete the `esmartdata_course` table if such a table already exists in the database.\n",
        "\n",
        "\n",
        "Then, in the specified database, create a table named `esmartdata_course` with the following columns (column name - data type):\n",
        "\n",
        "    id - integer\n",
        "    title- text\n",
        "    subtitle- text\n",
        "    description - text\n",
        "    category - text\n",
        "    subcategory - text\n",
        "    language - text\n",
        "    length - text\n",
        "    rating - real\n",
        "    referral_link - text\n",
        "    instructor_id - integer\n",
        "\n",
        "\n",
        "Add a NOT NULL constraint to each column. Also add a primary key constraint with the AUTOINCREMENT option to the id column.\n",
        "\n",
        "\n",
        "Add a foreign key constraint to the column instructor_id referring to the id column of the table `esmartdata_instructor` with the ON DELETE CASCADE ON UPDATE CASCADE options.\n",
        "\n",
        "\n",
        "Commit the changes and close the database connection."
      ],
      "metadata": {
        "id": "z4UdJx7LnY-O"
      }
    },
    {
      "cell_type": "code",
      "source": [
        "# drop course table if it already exists\n",
        "drop_course_table_query = \"DROP TABLE IF EXISTS esmartdata_course;\"\n",
        "cur.execute(drop_course_table_query)\n",
        "\n",
        "# create esmartdata_course table\n",
        "create_course_table_query = '''CREATE TABLE esmartdata_course (\n",
        "    id integer NOT NULL,\n",
        "    title text NOT NULL,\n",
        "    subtitle text NOT NULL,\n",
        "    description text NOT NULL,\n",
        "    category text NOT NULL,\n",
        "    subcategory text NOT NULL,\n",
        "    language text NOT NULL,\n",
        "    length text NOT NULL,\n",
        "    rating real NOT NULL,\n",
        "    referral_link text NOT NULL,\n",
        "    instructor_id integer NOT NULL,\n",
        "    PRIMARY KEY (\"id\" AUTOINCREMENT),\n",
        "    FOREIGN KEY (instructor_id) REFERENCES esmartdata_instructor(id) ON DELETE CASCADE ON UPDATE CASCADE\n",
        ");'''\n",
        "\n",
        "cur.execute(create_course_table_query)\n",
        "\n",
        "# commit changes and close connection\n",
        "conn.commit()\n",
        "conn.close()"
      ],
      "metadata": {
        "id": "bOMJDFxkodiw"
      },
      "execution_count": 3,
      "outputs": []
    }
  ]
}