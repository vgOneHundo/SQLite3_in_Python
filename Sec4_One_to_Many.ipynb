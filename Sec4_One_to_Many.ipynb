{
  "nbformat": 4,
  "nbformat_minor": 0,
  "metadata": {
    "colab": {
      "provenance": [],
      "authorship_tag": "ABX9TyMquLWti69k0h8c/IlhAUkX",
      "include_colab_link": true
    },
    "kernelspec": {
      "name": "python3",
      "display_name": "Python 3"
    },
    "language_info": {
      "name": "python"
    }
  },
  "cells": [
    {
      "cell_type": "markdown",
      "metadata": {
        "id": "view-in-github",
        "colab_type": "text"
      },
      "source": [
        "<a href=\"https://colab.research.google.com/github/vgOneHundo/test-colab/blob/main/Sec4_One_to_Many.ipynb\" target=\"_parent\"><img src=\"https://colab.research.google.com/assets/colab-badge.svg\" alt=\"Open In Colab\"/></a>"
      ]
    },
    {
      "cell_type": "code",
      "execution_count": null,
      "metadata": {
        "id": "RBgwApFgyv2z"
      },
      "outputs": [],
      "source": [
        "import sqlite3\n",
        "\n",
        "# connect to SQLite database\n",
        "conn = sqlite3.connect('esmartdata.sqlite3')\n",
        "cur = conn.cursor()"
      ]
    },
    {
      "cell_type": "markdown",
      "source": [
        "## Exercise 1\n",
        "\n",
        "Using the built-in sqlite3 package, create SQLite database named 'esmartdata.sqlite3'.\n",
        "\n",
        "\n",
        "Then create a table in this database called \"esmartdata_instructor\" with the following columns (column name - data type):\n",
        "\n",
        "    id - integer\n",
        "    first_name - text\n",
        "    last_name - text\n",
        "    description - text\n",
        "\n",
        "\n",
        "Add a NOT NULL constraint to each column. Also add a primary key constraint with the AUTOINCREMENT option to the id column.\n",
        "\n",
        "\n",
        "Before creating the table, use the appropriate SQL command that will delete the \"esmartdata_instructor\" table if such a table already exists in the database.\n",
        "\n",
        "\n",
        "Commit the changes and close the database connection."
      ],
      "metadata": {
        "id": "GfvuNIEp5xtd"
      }
    },
    {
      "cell_type": "code",
      "source": [
        "# drop table if it already exists\n",
        "drop_table_query = \"DROP TABLE IF EXISTS esmartdata_instructor;\"\n",
        "cur.execute(drop_table_query)\n",
        "\n",
        "# create 'esmartdata_instructor' table\n",
        "create_table_query = '''CREATE TABLE esmartdata_instructor (\n",
        "    id integer NOT NULL,\n",
        "    first_name text NOT NULL,\n",
        "    last_name text NOT NULL,\n",
        "    description text NOT NULL,\n",
        "    PRIMARY KEY (\"id\" AUTOINCREMENT)\n",
        ");'''\n",
        "\n",
        "cur.execute(create_table_query)\n",
        "\n",
        "# commit changes and close connection\n",
        "conn.commit()\n",
        "conn.close()"
      ],
      "metadata": {
        "id": "4sPxAzJr0dEK"
      },
      "execution_count": null,
      "outputs": []
    }
  ]
}